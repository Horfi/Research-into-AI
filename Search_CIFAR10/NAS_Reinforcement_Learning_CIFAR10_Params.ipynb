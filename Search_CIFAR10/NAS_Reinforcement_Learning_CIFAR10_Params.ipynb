{
 "cells": [
  {
   "cell_type": "markdown",
   "metadata": {},
   "source": [
    "# paramiters for nas Search"
   ]
  },
  {
   "cell_type": "code",
   "execution_count": null,
   "metadata": {},
   "outputs": [],
   "source": [
    "\n",
    "\n",
    "# Define architectural parameters\n",
    "MAX_LAYERS = 15\n",
    "MAX_NODES_PER_LAYER = 1024\n",
    "ACTIVATION_FUNCTIONS = ['relu', 'elu', 'selu']\n",
    "\n",
    "# Define hyperparameters\n",
    "LEARNING_RATE = 0.0005\n",
    "BATCH_SIZE = 128\n",
    "EPOCHS = 100\n",
    "OPTIMIZERS = ['rmsprop', 'adam']\n",
    "\n",
    "# Reinforcement Learning parameters\n",
    "AGENT_LR = 0.001\n",
    "DISCOUNT_FACTOR = 0.99\n",
    "EXPLORATION_RATE = 0.1\n",
    "\n",
    "# Any other constants or parameters\n",
    "SEED = 123\n",
    "np.random.seed(SEED)\n"
   ]
  }
 ],
 "metadata": {
  "kernelspec": {
   "display_name": "Python 3",
   "language": "python",
   "name": "python3"
  },
  "language_info": {
   "name": "python",
   "version": "3.12.2"
  }
 },
 "nbformat": 4,
 "nbformat_minor": 2
}
