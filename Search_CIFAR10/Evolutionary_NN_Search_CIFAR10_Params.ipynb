{
 "cells": [
  {
   "cell_type": "code",
   "execution_count": null,
   "metadata": {},
   "outputs": [],
   "source": [
    "# Evolutionary_NN_Search_CIFAR10_Params.ipynb\n",
    "\n",
    "# Import necessary libraries\n",
    "import numpy as np\n",
    "import random\n",
    "import torch\n",
    "import torch.nn as nn\n",
    "\n",
    "# Set random seeds for reproducibility\n",
    "SEED = 42\n",
    "random.seed(SEED)\n",
    "np.random.seed(SEED)\n",
    "torch.manual_seed(SEED)\n",
    "\n",
    "# Device configuration\n",
    "DEVICE = torch.device('cuda' if torch.cuda.is_available() else 'cpu')\n",
    "\n",
    "# Data parameters\n",
    "DATA_DIR = './data'\n",
    "DATASET = 'CIFAR10'\n",
    "SMALL_DATASET_SIZE = 5000  # Use only 5,000 samples\n",
    "TRAIN_VAL_SPLIT = 0.8\n",
    "BATCH_SIZE = 64\n",
    "\n",
    "# Possible values for network architecture\n",
    "MIN_LAYERS = 2\n",
    "MAX_LAYERS = 5\n",
    "NUM_FILTERS_OPTIONS = [16, 32, 64, 128]\n",
    "KERNEL_SIZES = [3]\n",
    "ACTIVATION_FUNCTIONS = [nn.ReLU, nn.Tanh]\n",
    "\n",
    "# Learning rate range\n",
    "LEARNING_RATE_MIN = 1e-5\n",
    "LEARNING_RATE_MAX = 1e-2\n",
    "\n",
    "# Evolutionary algorithm parameters\n",
    "POPULATION_SIZE = 10\n",
    "NUM_GENERATIONS = 5\n",
    "CX_PROB = 0.5  # Crossover probability\n",
    "MUT_PROB = 0.2  # Mutation probability\n",
    "TOURNSIZE = 3\n",
    "\n",
    "# Number of epochs\n",
    "EPOCHS = 2          # For quick evaluation in evolution\n",
    "RETRAIN_EPOCHS = 5  # For retraining the best model\n",
    "\n",
    "# Other constants\n",
    "NUM_CLASSES = 10     # CIFAR-10 has 10 classes\n",
    "INPUT_CHANNELS = 3   # CIFAR-10 images have 3 channels (RGB)\n"
   ]
  }
 ],
 "metadata": {
  "kernelspec": {
   "display_name": "Python 3",
   "language": "python",
   "name": "python3"
  },
  "language_info": {
   "codemirror_mode": {
    "name": "ipython",
    "version": 3
   },
   "file_extension": ".py",
   "mimetype": "text/x-python",
   "name": "python",
   "nbconvert_exporter": "python",
   "pygments_lexer": "ipython3",
   "version": "3.12.2"
  }
 },
 "nbformat": 4,
 "nbformat_minor": 2
}
