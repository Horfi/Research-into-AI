{
 "cells": [
  {
   "cell_type": "code",
   "execution_count": null,
   "metadata": {},
   "outputs": [],
   "source": [
    "# Cell 1: Define Parameters\n",
    "\n",
    "# Common parameters\n",
    "dataset = 'CIFAR-10'\n",
    "num_classes = 10\n",
    "\n",
    "# Evolutionary Algorithm parameters\n",
    "ea_params = {\n",
    "    'population_size': 20,\n",
    "    'num_generations': 10,\n",
    "    'cxpb': 0.7,  # Crossover probability\n",
    "    'mutpb': 0.3,  # Mutation probability\n",
    "}\n",
    "\n",
    "# NAS with Reinforcement Learning parameters\n",
    "nas_rl_params = {\n",
    "    'hidden_size': 35,\n",
    "    'controller_num_layers': 5,\n",
    "    'controller_num_operations': 3,\n",
    "    'controller_lr': 0.001,\n",
    "    'epochs': 10,\n",
    "}\n",
    "\n",
    "# Training parameters for child networks\n",
    "child_network_params = {\n",
    "    'epochs': 5,\n",
    "}\n",
    "\n",
    "# Data loading parameters\n",
    "data_params = {\n",
    "    'batch_size': 64,\n",
    "}\n"
   ]
  },
  {
   "cell_type": "code",
   "execution_count": 2,
   "metadata": {},
   "outputs": [
    {
     "ename": "NameError",
     "evalue": "name 'ea_params' is not defined",
     "output_type": "error",
     "traceback": [
      "\u001b[1;31m---------------------------------------------------------------------------\u001b[0m",
      "\u001b[1;31mNameError\u001b[0m                                 Traceback (most recent call last)",
      "Cell \u001b[1;32mIn[2], line 17\u001b[0m\n\u001b[0;32m     14\u001b[0m     time_taken \u001b[38;5;241m=\u001b[39m \u001b[38;5;241m600\u001b[39m  \u001b[38;5;66;03m# in seconds\u001b[39;00m\n\u001b[0;32m     15\u001b[0m     \u001b[38;5;28;01mreturn\u001b[39;00m best_architecture, test_accuracy, time_taken\n\u001b[1;32m---> 17\u001b[0m best_arch_ea, test_acc_ea, time_ea \u001b[38;5;241m=\u001b[39m run_evolution(\u001b[43mea_params\u001b[49m, data_params)\n",
      "\u001b[1;31mNameError\u001b[0m: name 'ea_params' is not defined"
     ]
    }
   ],
   "source": [
    "# Cell 2: Run Evolutionary Algorithm\n",
    "\n",
    "# Assuming the evolutionary algorithm code is in a module named 'evolutionary_algo'\n",
    "# from evolutionary_algo import run_evolution\n",
    "\n",
    "# For this example, we'll define a function here\n",
    "def run_evolution(ea_params, data_params):\n",
    "    # Use the parameters from ea_params and data_params\n",
    "    # Implement the evolutionary algorithm as before, using the passed parameters\n",
    "    # Collect results such as best architecture, accuracy, time taken\n",
    "    # For the purpose of this example, we'll mock the results\n",
    "    best_architecture = {'filters': [64, 128], 'kernel_sizes': [3, 3], 'activation_fn': 'ReLU'}\n",
    "    test_accuracy = 0.85\n",
    "    time_taken = 600  # in seconds\n",
    "    return best_architecture, test_accuracy, time_taken\n",
    "\n",
    "best_arch_ea, test_acc_ea, time_ea = run_evolution(ea_params, data_params)\n"
   ]
  },
  {
   "cell_type": "code",
   "execution_count": 1,
   "metadata": {},
   "outputs": [
    {
     "ename": "NameError",
     "evalue": "name 'nas_rl_params' is not defined",
     "output_type": "error",
     "traceback": [
      "\u001b[1;31m---------------------------------------------------------------------------\u001b[0m",
      "\u001b[1;31mNameError\u001b[0m                                 Traceback (most recent call last)",
      "Cell \u001b[1;32mIn[1], line 16\u001b[0m\n\u001b[0;32m     13\u001b[0m     time_taken \u001b[38;5;241m=\u001b[39m \u001b[38;5;241m800\u001b[39m  \u001b[38;5;66;03m# in seconds\u001b[39;00m\n\u001b[0;32m     14\u001b[0m     \u001b[38;5;28;01mreturn\u001b[39;00m best_architecture, test_accuracy, time_taken\n\u001b[1;32m---> 16\u001b[0m best_arch_nas_rl, test_acc_nas_rl, time_nas_rl \u001b[38;5;241m=\u001b[39m run_nas_rl(\u001b[43mnas_rl_params\u001b[49m, data_params)\n",
      "\u001b[1;31mNameError\u001b[0m: name 'nas_rl_params' is not defined"
     ]
    }
   ],
   "source": [
    "# Cell 3: Run NAS with Reinforcement Learning\n",
    "\n",
    "# Assuming the NAS-RL code is in a module named 'nas_rl_algo'\n",
    "# from nas_rl_algo import run_nas_rl\n",
    "\n",
    "def run_nas_rl(nas_rl_params, data_params):\n",
    "    # Use the parameters from nas_rl_params and data_params\n",
    "    # Implement NAS-RL as before, using the passed parameters\n",
    "    # Collect results such as best architecture, accuracy, time taken\n",
    "    # For the purpose of this example, we'll mock the results\n",
    "    best_architecture = ['conv3x3', 'conv5x5', 'maxpool3x3', 'conv3x3', 'conv5x5']\n",
    "    test_accuracy = 0.83\n",
    "    time_taken = 800  # in seconds\n",
    "    return best_architecture, test_accuracy, time_taken\n",
    "\n",
    "best_arch_nas_rl, test_acc_nas_rl, time_nas_rl = run_nas_rl(nas_rl_params, data_params)\n"
   ]
  }
 ],
 "metadata": {
  "kernelspec": {
   "display_name": "Python 3",
   "language": "python",
   "name": "python3"
  },
  "language_info": {
   "codemirror_mode": {
    "name": "ipython",
    "version": 3
   },
   "file_extension": ".py",
   "mimetype": "text/x-python",
   "name": "python",
   "nbconvert_exporter": "python",
   "pygments_lexer": "ipython3",
   "version": "3.12.2"
  }
 },
 "nbformat": 4,
 "nbformat_minor": 2
}
