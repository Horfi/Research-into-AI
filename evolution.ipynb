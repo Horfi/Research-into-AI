{
 "cells": [
  {
   "cell_type": "markdown",
   "metadata": {},
   "source": [
    "# Cell 1: Import Libraries"
   ]
  },
  {
   "cell_type": "code",
   "execution_count": 1,
   "metadata": {},
   "outputs": [],
   "source": [
    "\n",
    "\n",
    "import random\n",
    "import numpy as np\n",
    "import pandas as pd\n",
    "import matplotlib.pyplot as plt\n",
    "import torch\n",
    "import torch.nn as nn\n",
    "import torch.optim as optim\n",
    "from torchvision import datasets, transforms\n",
    "from deap import base, creator, tools, algorithms\n",
    "\n",
    "# Set random seeds for reproducibility\n",
    "random.seed(42)\n",
    "np.random.seed(42)\n",
    "torch.manual_seed(42)\n",
    "\n",
    "# Enable inline plotting\n",
    "%matplotlib inline\n"
   ]
  },
  {
   "cell_type": "markdown",
   "metadata": {},
   "source": [
    "# Cell 2: Data Loading and Preprocessing"
   ]
  },
  {
   "cell_type": "code",
   "execution_count": 2,
   "metadata": {},
   "outputs": [],
   "source": [
    "\n",
    "\n",
    "# Define transformations\n",
    "transform = transforms.Compose([\n",
    "    transforms.ToTensor(),\n",
    "    transforms.Normalize((0.1307,), (0.3081,))\n",
    "])\n",
    "\n",
    "# Load MNIST dataset\n",
    "full_dataset = datasets.MNIST('./data', train=True, download=True, transform=transform)\n",
    "\n",
    "# Reduce dataset size to simulate limited data\n",
    "small_dataset_size = 1000  # Use only 1000 samples\n",
    "indices = list(range(len(full_dataset)))\n",
    "random.shuffle(indices)\n",
    "small_indices = indices[:small_dataset_size]\n",
    "\n",
    "small_dataset = torch.utils.data.Subset(full_dataset, small_indices)\n",
    "\n",
    "# Create DataLoader\n",
    "train_loader = torch.utils.data.DataLoader(small_dataset, batch_size=32, shuffle=True)\n"
   ]
  },
  {
   "cell_type": "markdown",
   "metadata": {},
   "source": [
    "# Cell 3: Visualize Sample Data"
   ]
  },
  {
   "cell_type": "code",
   "execution_count": 3,
   "metadata": {},
   "outputs": [
    {
     "data": {
      "image/png": "[encoded data removed]",
      "text/plain": [
       "<Figure size 1200x300 with 5 Axes>"
      ]
     },
     "metadata": {},
     "output_type": "display_data"
    }
   ],
   "source": [
    "\n",
    "\n",
    "def show_images(dataset, indices):\n",
    "    fig, axes = plt.subplots(1, len(indices), figsize=(12, 3))\n",
    "    for ax, idx in zip(axes, indices):\n",
    "        img, label = dataset[idx]\n",
    "        img = img.numpy().squeeze()\n",
    "        ax.imshow(img, cmap='gray')\n",
    "        ax.set_title(f'Label: {label}')\n",
    "        ax.axis('off')\n",
    "    plt.show()\n",
    "\n",
    "# Display first 5 images in the small dataset\n",
    "sample_indices = small_indices[:5]\n",
    "show_images(full_dataset, sample_indices)\n"
   ]
  },
  {
   "cell_type": "markdown",
   "metadata": {},
   "source": [
    "# Cell 4: Define the Search Space and Evolutionary Algorithm Setup\n"
   ]
  },
  {
   "cell_type": "code",
   "execution_count": 4,
   "metadata": {},
   "outputs": [],
   "source": [
    "\n",
    "# Possible values for network architecture\n",
    "NUM_LAYERS = [1, 2, 3]\n",
    "NUM_NEURONS = [32, 64, 128, 256]\n",
    "ACTIVATION_FUNCTIONS = [nn.ReLU, nn.Tanh, nn.Sigmoid]\n",
    "LEARNING_RATES = [0.01, 0.001, 0.0001]\n",
    "\n",
    "# Define individual and fitness classes\n",
    "creator.create(\"FitnessMax\", base.Fitness, weights=(1.0,))  # Maximize accuracy\n",
    "creator.create(\"Individual\", list, fitness=creator.FitnessMax)\n",
    "\n",
    "# Function to create an individual\n",
    "def create_individual():\n",
    "    num_layers = random.choice(NUM_LAYERS)\n",
    "    neurons = [random.choice(NUM_NEURONS) for _ in range(num_layers)]\n",
    "    activation = random.choice(ACTIVATION_FUNCTIONS)\n",
    "    learning_rate = random.choice(LEARNING_RATES)\n",
    "    return creator.Individual([neurons, activation, learning_rate])\n",
    "\n",
    "# Initialize the toolbox\n",
    "toolbox = base.Toolbox()\n",
    "toolbox.register(\"individual\", create_individual)\n",
    "toolbox.register(\"population\", tools.initRepeat, list, toolbox.individual)\n"
   ]
  },
  {
   "cell_type": "markdown",
   "metadata": {},
   "source": [
    "# Cell 5: Define the Evaluation Function"
   ]
  },
  {
   "cell_type": "code",
   "execution_count": 5,
   "metadata": {},
   "outputs": [],
   "source": [
    "\n",
    "\n",
    "def evaluate_individual(individual):\n",
    "    neurons, activation_fn, learning_rate = individual\n",
    "    num_classes = 10  # MNIST has 10 classes\n",
    "\n",
    "    # Define the neural network architecture\n",
    "    class SimpleNet(nn.Module):\n",
    "        def __init__(self):\n",
    "            super(SimpleNet, self).__init__()\n",
    "            layers = []\n",
    "            input_size = 28 * 28\n",
    "            for neuron_count in neurons:\n",
    "                layers.append(nn.Linear(input_size, neuron_count))\n",
    "                layers.append(activation_fn())\n",
    "                input_size = neuron_count\n",
    "            layers.append(nn.Linear(input_size, num_classes))\n",
    "            self.net = nn.Sequential(*layers)\n",
    "\n",
    "        def forward(self, x):\n",
    "            x = x.view(-1, 28 * 28)\n",
    "            return self.net(x)\n",
    "\n",
    "    # Initialize the network\n",
    "    model = SimpleNet()\n",
    "    criterion = nn.CrossEntropyLoss()\n",
    "    optimizer = optim.Adam(model.parameters(), lr=learning_rate)\n",
    "\n",
    "    # Training loop\n",
    "    epochs = 1  # Keep epochs low for quick evaluation\n",
    "    model.train()\n",
    "    try:\n",
    "        for epoch in range(epochs):\n",
    "            for data, target in train_loader:\n",
    "                optimizer.zero_grad()\n",
    "                output = model(data)\n",
    "                loss = criterion(output, target)\n",
    "                loss.backward()\n",
    "                optimizer.step()\n",
    "        # Evaluate accuracy on training data\n",
    "        correct = 0\n",
    "        total = 0\n",
    "        model.eval()\n",
    "        with torch.no_grad():\n",
    "            for data, target in train_loader:\n",
    "                output = model(data)\n",
    "                _, predicted = torch.max(output.data, 1)\n",
    "                total += target.size(0)\n",
    "                correct += (predicted == target).sum().item()\n",
    "        accuracy = correct / total\n",
    "    except Exception as e:\n",
    "        # If the model fails to train, assign a low fitness score\n",
    "        accuracy = 0.0\n",
    "    return (accuracy,)\n"
   ]
  },
  {
   "cell_type": "markdown",
   "metadata": {},
   "source": [
    "# Cell 6: Define Genetic Operators"
   ]
  },
  {
   "cell_type": "code",
   "execution_count": 6,
   "metadata": {},
   "outputs": [],
   "source": [
    "\n",
    "\n",
    "def mutate_individual(individual):\n",
    "    # Mutate neurons\n",
    "    if random.random() < 0.5:\n",
    "        num_layers = random.choice(NUM_LAYERS)\n",
    "        individual[0] = [random.choice(NUM_NEURONS) for _ in range(num_layers)]\n",
    "    # Mutate activation function\n",
    "    if random.random() < 0.5:\n",
    "        individual[1] = random.choice(ACTIVATION_FUNCTIONS)\n",
    "    # Mutate learning rate\n",
    "    if random.random() < 0.5:\n",
    "        individual[2] = random.choice(LEARNING_RATES)\n",
    "    return individual,\n",
    "\n",
    "def crossover_individuals(ind1, ind2):\n",
    "    # Swap neurons\n",
    "    if random.random() < 0.5:\n",
    "        ind1[0], ind2[0] = ind2[0], ind1[0]\n",
    "    # Swap activation function\n",
    "    if random.random() < 0.5:\n",
    "        ind1[1], ind2[1] = ind2[1], ind1[1]\n",
    "    # Swap learning rate\n",
    "    if random.random() < 0.5:\n",
    "        ind1[2], ind2[2] = ind2[2], ind1[2]\n",
    "    return ind1, ind2\n",
    "\n",
    "# Register genetic operators\n",
    "toolbox.register(\"evaluate\", evaluate_individual)\n",
    "toolbox.register(\"mate\", crossover_individuals)\n",
    "toolbox.register(\"mutate\", mutate_individual)\n",
    "toolbox.register(\"select\", tools.selTournament, tournsize=3)\n"
   ]
  },
  {
   "cell_type": "markdown",
   "metadata": {},
   "source": [
    "# Cell 7: Run the Evolutionary Algorithm"
   ]
  },
  {
   "cell_type": "code",
   "execution_count": 7,
   "metadata": {},
   "outputs": [
    {
     "name": "stdout",
     "output_type": "stream",
     "text": [
      "gen\tnevals\tavg   \tmax  \n",
      "0  \t20    \t0.4793\t0.881\n",
      "1  \t15    \t0.6538\t0.886\n",
      "2  \t11    \t0.76565\t0.881\n",
      "3  \t12    \t0.80955\t0.892\n",
      "4  \t11    \t0.8396 \t0.897\n",
      "5  \t11    \t0.84265\t0.894\n",
      "6  \t11    \t0.84595\t0.894\n",
      "7  \t16    \t0.84585\t0.908\n",
      "8  \t14    \t0.87535\t0.908\n",
      "9  \t11    \t0.87265\t0.906\n",
      "10 \t6     \t0.84875\t0.906\n"
     ]
    }
   ],
   "source": [
    "\n",
    "\n",
    "def run_evolution():\n",
    "    population_size = 20  # Start with a small population\n",
    "    num_generations = 10   # Use fewer generations for quick testing\n",
    "    population = toolbox.population(n=population_size)\n",
    "\n",
    "    # Statistics to keep track of progress\n",
    "    stats = tools.Statistics(lambda ind: ind.fitness.values)\n",
    "    stats.register(\"avg\", np.mean)\n",
    "    stats.register(\"max\", np.max)\n",
    "\n",
    "    # Evolutionary algorithm parameters\n",
    "    cxpb = 0.5  # Crossover probability\n",
    "    mutpb = 0.2  # Mutation probability\n",
    "\n",
    "    # Run the evolutionary algorithm\n",
    "    population, logbook = algorithms.eaSimple(population, toolbox,\n",
    "                                              cxpb=cxpb, mutpb=mutpb,\n",
    "                                              ngen=num_generations,\n",
    "                                              stats=stats,\n",
    "                                              verbose=True)\n",
    "    return population, logbook\n",
    "\n",
    "population, logbook = run_evolution()\n"
   ]
  },
  {
   "cell_type": "markdown",
   "metadata": {},
   "source": [
    "# Cell 8: Analyze Results"
   ]
  },
  {
   "cell_type": "code",
   "execution_count": 8,
   "metadata": {},
   "outputs": [
    {
     "name": "stdout",
     "output_type": "stream",
     "text": [
      "Best Individual:\n",
      "Neurons per Layer: [256]\n",
      "Activation Function: Sigmoid\n",
      "Learning Rate: 0.01\n",
      "Fitness (Accuracy): 0.9060\n"
     ]
    },
    {
     "data": {
      "image/png": "[encoded data removed]",
      "text/plain": [
       "<Figure size 1000x500 with 1 Axes>"
      ]
     },
     "metadata": {},
     "output_type": "display_data"
    }
   ],
   "source": [
    "\n",
    "\n",
    "# Find the best individual\n",
    "top_individual = tools.selBest(population, k=1)[0]\n",
    "neurons, activation_fn, learning_rate = top_individual\n",
    "\n",
    "print(\"Best Individual:\")\n",
    "print(f\"Neurons per Layer: {neurons}\")\n",
    "print(f\"Activation Function: {activation_fn.__name__}\")\n",
    "print(f\"Learning Rate: {learning_rate}\")\n",
    "print(f\"Fitness (Accuracy): {top_individual.fitness.values[0]:.4f}\")\n",
    "\n",
    "# Plot the evolution of fitness over generations\n",
    "gen = logbook.select(\"gen\")\n",
    "avg_fitness = logbook.select(\"avg\")\n",
    "max_fitness = logbook.select(\"max\")\n",
    "\n",
    "plt.figure(figsize=(10, 5))\n",
    "plt.plot(gen, avg_fitness, label='Average Fitness')\n",
    "plt.plot(gen, max_fitness, label='Max Fitness')\n",
    "plt.xlabel('Generation')\n",
    "plt.ylabel('Fitness')\n",
    "plt.title('Fitness over Generations')\n",
    "plt.legend()\n",
    "plt.grid(True)\n",
    "plt.show()\n"
   ]
  },
  {
   "cell_type": "markdown",
   "metadata": {},
   "source": [
    "# Cell 9: Visualize the Best Model's Performance"
   ]
  },
  {
   "cell_type": "code",
   "execution_count": 9,
   "metadata": {},
   "outputs": [
    {
     "name": "stdout",
     "output_type": "stream",
     "text": [
      "Epoch 1/5, Loss: 1.2378\n",
      "Epoch 2/5, Loss: 0.3994\n",
      "Epoch 3/5, Loss: 0.2511\n",
      "Epoch 4/5, Loss: 0.1622\n",
      "Epoch 5/5, Loss: 0.0962\n",
      "Training Accuracy: 0.9880\n"
     ]
    }
   ],
   "source": [
    "\n",
    "\n",
    "# Re-train the best model to see its performance\n",
    "best_neurons = neurons\n",
    "best_activation_fn = activation_fn\n",
    "best_learning_rate = learning_rate\n",
    "\n",
    "class BestNet(nn.Module):\n",
    "    def __init__(self):\n",
    "        super(BestNet, self).__init__()\n",
    "        layers = []\n",
    "        input_size = 28 * 28\n",
    "        for neuron_count in best_neurons:\n",
    "            layers.append(nn.Linear(input_size, neuron_count))\n",
    "            layers.append(best_activation_fn())\n",
    "            input_size = neuron_count\n",
    "        layers.append(nn.Linear(input_size, 10))\n",
    "        self.net = nn.Sequential(*layers)\n",
    "\n",
    "    def forward(self, x):\n",
    "        x = x.view(-1, 28 * 28)\n",
    "        return self.net(x)\n",
    "\n",
    "# Initialize the network\n",
    "best_model = BestNet()\n",
    "criterion = nn.CrossEntropyLoss()\n",
    "optimizer = optim.Adam(best_model.parameters(), lr=best_learning_rate)\n",
    "\n",
    "# Training loop\n",
    "epochs = 5  # Train for more epochs\n",
    "best_model.train()\n",
    "for epoch in range(epochs):\n",
    "    epoch_loss = 0\n",
    "    for data, target in train_loader:\n",
    "        optimizer.zero_grad()\n",
    "        output = best_model(data)\n",
    "        loss = criterion(output, target)\n",
    "        loss.backward()\n",
    "        optimizer.step()\n",
    "        epoch_loss += loss.item()\n",
    "    print(f'Epoch {epoch+1}/{epochs}, Loss: {epoch_loss/len(train_loader):.4f}')\n",
    "\n",
    "# Evaluate on training data\n",
    "correct = 0\n",
    "total = 0\n",
    "best_model.eval()\n",
    "with torch.no_grad():\n",
    "    for data, target in train_loader:\n",
    "        output = best_model(data)\n",
    "        _, predicted = torch.max(output.data, 1)\n",
    "        total += target.size(0)\n",
    "        correct += (predicted == target).sum().item()\n",
    "accuracy = correct / total\n",
    "print(f'Training Accuracy: {accuracy:.4f}')\n"
   ]
  },
  {
   "cell_type": "markdown",
   "metadata": {},
   "source": [
    "# Cell 10: Test on Validation Data (Optional)"
   ]
  },
  {
   "cell_type": "code",
   "execution_count": 10,
   "metadata": {},
   "outputs": [
    {
     "name": "stdout",
     "output_type": "stream",
     "text": [
      "Test Accuracy: 0.8888\n"
     ]
    }
   ],
   "source": [
    "\n",
    "\n",
    "# Load test dataset\n",
    "test_dataset = datasets.MNIST('./data', train=False, download=True, transform=transform)\n",
    "test_loader = torch.utils.data.DataLoader(test_dataset, batch_size=32, shuffle=False)\n",
    "\n",
    "# Evaluate on test data\n",
    "correct = 0\n",
    "total = 0\n",
    "best_model.eval()\n",
    "with torch.no_grad():\n",
    "    for data, target in test_loader:\n",
    "        output = best_model(data)\n",
    "        _, predicted = torch.max(output.data, 1)\n",
    "        total += target.size(0)\n",
    "        correct += (predicted == target).sum().item()\n",
    "test_accuracy = correct / total\n",
    "print(f'Test Accuracy: {test_accuracy:.4f}')\n"
   ]
  }
 ],
 "metadata": {
  "kernelspec": {
   "display_name": "Python 3",
   "language": "python",
   "name": "python3"
  },
  "language_info": {
   "codemirror_mode": {
    "name": "ipython",
    "version": 3
   },
   "file_extension": ".py",
   "mimetype": "text/x-python",
   "name": "python",
   "nbconvert_exporter": "python",
   "pygments_lexer": "ipython3",
   "version": "3.12.2"
  }
 },
 "nbformat": 4,
 "nbformat_minor": 2
}
